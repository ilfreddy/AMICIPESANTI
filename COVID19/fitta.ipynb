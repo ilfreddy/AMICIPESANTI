from matplotlib import *
from pylab import *

with open('data.txt') as f:
   data = [line.split() for line in f.readlines()]
   out = [(float(x), float(y)) for x, y in data]
for i in out:
   scatter(i[0],i[1])
show()

